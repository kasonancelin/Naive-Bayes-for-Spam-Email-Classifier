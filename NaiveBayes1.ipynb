{
  "nbformat": 4,
  "nbformat_minor": 0,
  "metadata": {
    "colab": {
      "name": "NaiveBayes1.ipynb",
      "provenance": [],
      "authorship_tag": "ABX9TyOrvOeukVbUVfNny2isMXoB",
      "include_colab_link": true
    },
    "kernelspec": {
      "name": "python3",
      "display_name": "Python 3"
    },
    "language_info": {
      "name": "python"
    }
  },
  "cells": [
    {
      "cell_type": "markdown",
      "metadata": {
        "id": "view-in-github",
        "colab_type": "text"
      },
      "source": [
        "<a href=\"https://colab.research.google.com/github/kasonancelin/Naive-Bayes-for-Spam-Email-Classifier/blob/main/NaiveBayes1.ipynb\" target=\"_parent\"><img src=\"https://colab.research.google.com/assets/colab-badge.svg\" alt=\"Open In Colab\"/></a>"
      ]
    },
    {
      "cell_type": "code",
      "execution_count": 1,
      "metadata": {
        "id": "BPAFOdtchSIH"
      },
      "outputs": [],
      "source": [
        "# Naive Bayes Time\n",
        "from typing import Set, NamedTuple, List, Tuple, Dict, Iterable\n",
        "import re\n",
        "import math\n",
        "from collections import defaultdict\n",
        "\n",
        "class Message(NamedTuple): # Message will be a string containing the entire email message\n",
        "  text: str\n",
        "  is_spam: bool\n",
        "\n",
        "def tokenize(text: str) -> Set[str]:\n",
        "  text = text.lower()\n",
        "  all_words = re.findall(\"[a-z0-9']+\", text) # Dicphers and finds the words\n",
        "  return set(all_words) # Avoid repeats\n",
        "\n",
        "assert tokenize(\"Data science is Science\") == {'science', 'data', 'is'}\n",
        "\n",
        "class NaiveBayesClassifier:\n",
        "  def __init__(self, k: float = 0.5) -> None:\n",
        "    self.k = k # pseudocount\n",
        "\n",
        "    self.tokens: Set[str] = set() # All words found in the email\n",
        "    self.token_spam_counts: Dict[str, int] = defaultdict(int) # Dictionary which will have words from the email as keys and the # of emails which are spam containing said word as values\n",
        "    self.token_ham_counts: Dict[str, int] = defaultdict(int) # Dictionary which will have words from the email as keys and the # of emails which are spam containing said word as values\n",
        "    self.spam_messages = self.ham_messages = 0 # Simply counts the # of spam/ham messages\n",
        "\n",
        "  def train(self, messages: Iterable[Message]) -> None:\n",
        "    for message in messages:\n",
        "      if message.is_spam:\n",
        "        self.spam_messages += 1\n",
        "      else:\n",
        "        self.ham_messages += 1\n",
        "      \n",
        "      for token in tokenize(message.text):\n",
        "        self.tokens.add(token)\n",
        "        if message.is_spam:\n",
        "          self.token_spam_counts[token] += 1\n",
        "        else:\n",
        "          self.token_ham_counts[token] += 1\n",
        "\n",
        "  def _probabilities(self, token: str) -> Tuple[float, float]: # Will return P(token in text | spam), P(token in text | ham)\n",
        "    spam = self.token_spam_counts[token] # number of spam emails with said token\n",
        "    ham = self.token_ham_counts[token] # number of ham emails with said token\n",
        "\n",
        "    p_token_spam = (self.k + spam) / (self.spam_messages + 2 * self.k) # probability of a token being in a message given it is spam\n",
        "    p_token_ham = (self.k + ham) / (self.ham_messages + 2 * self.k) # probability of a token being in a message given it is ham\n",
        "    return p_token_spam, p_token_ham\n",
        "\n",
        "  def predict(self, text: str) -> float:\n",
        "    text_tokens = tokenize(text)\n",
        "    log_prob_if_spam = log_prob_if_ham = 0.0\n",
        "\n",
        "    # Iterate through each word in our vocab\n",
        "    for token in self.tokens:\n",
        "      prob_if_spam, prob_if_ham = self._probabilities(token) # probability of token being in a message given it is spam/ham\n",
        "\n",
        "      # If *token* appears in the message,\n",
        "      # add the log probability of seeing it\n",
        "      if token in text_tokens:\n",
        "        log_prob_if_spam += math.log(prob_if_spam)\n",
        "        log_prob_if_ham += math.log(prob_if_ham)\n",
        "      # Else, add log probability of not seeing it (1 - seeing it)\n",
        "      else:\n",
        "        log_prob_if_spam += math.log(1 - prob_if_spam)\n",
        "        log_prob_if_ham += math.log(1 - prob_if_ham)\n",
        "      # Routine math below, exponentiate the log sum\n",
        "    prob_if_spam = math.exp(log_prob_if_spam)\n",
        "    prob_if_ham = math.exp(log_prob_if_ham)\n",
        "    return prob_if_spam / (prob_if_spam + prob_if_ham)\n",
        "\n",
        "# basic test below to insure the code is working, we will confer with by hand work soon\n",
        "messages = [Message(\"spam rules\", is_spam = True),\n",
        "            Message(\"ham rules\", is_spam = False),\n",
        "            Message(\"hello ham\", is_spam = False)]\n",
        "model = NaiveBayesClassifier(k=0.5)\n",
        "model.train(messages)\n",
        "\n",
        "assert model.tokens == {\"spam\", \"ham\", \"rules\", \"hello\"}\n",
        "assert model.spam_messages == 1\n",
        "assert model.ham_messages == 2\n",
        "assert model.token_spam_counts[\"rules\"] == 1\n",
        "assert model.token_ham_counts[\"rules\"] == 1\n",
        "assert model.token_spam_counts == {\"spam\": 1, \"rules\": 1}\n",
        "assert model.token_ham_counts == {\"ham\": 2, \"rules\": 1, \"hello\": 1}\n",
        "\n",
        "# Below simply checks if our code matches a by hand version of the classification\n",
        "text = \"hello spam\"\n",
        "\n",
        "probs_if_spam = [3/4, 3/4, 1/4, 1/4]\n",
        "probs_if_ham = [1/6, 1/6, 3/6, 3/6]\n",
        "\n",
        "p_if_spam = math.exp(sum(math.log(p) for p in probs_if_spam))\n",
        "p_if_ham = math.exp(sum(math.log(p) for p in probs_if_ham))\n",
        "\n",
        "assert model.predict(text) == p_if_spam / (p_if_spam + p_if_ham)"
      ]
    },
    {
      "cell_type": "code",
      "source": [
        "from io import BytesIO  \n",
        "import requests          \n",
        "import tarfile          # Files are in .tar.bz format.\n",
        "\n",
        "BASE_URL = \"https://spamassassin.apache.org/old/publiccorpus\"\n",
        "FILES = [\"20021010_easy_ham.tar.bz2\",\n",
        "         \"20021010_hard_ham.tar.bz2\",\n",
        "         \"20021010_spam.tar.bz2\"]\n",
        "\n",
        "\n",
        "OUTPUT_DIR = 'spam_data' # The directory for the data\n",
        "\n",
        "for filename in FILES:\n",
        "    # Get the file contents at each URL.\n",
        "    content = requests.get(f\"{BASE_URL}/{filename}\").content\n",
        "\n",
        "    # Wrap the in-memory bytes so we can use them as a \"file.\"\n",
        "    fin = BytesIO(content)\n",
        "\n",
        "    # And extract all the files to the specified output dir.\n",
        "    with tarfile.open(fileobj=fin, mode='r:bz2') as tf:\n",
        "        tf.extractall(OUTPUT_DIR) # Send all the files to output directory (spam_data)"
      ],
      "metadata": {
        "id": "T40iY-BUhiSO"
      },
      "execution_count": 2,
      "outputs": []
    },
    {
      "cell_type": "code",
      "source": [
        "import glob, re\n",
        "import random\n",
        "\n",
        "paths = ['/content/spam_data/*/*']\n",
        "\n",
        "data: List[Message] = []\n",
        "for path in paths:\n",
        "  for filename in glob.glob(path):\n",
        "    is_spam = \"ham\" not in filename\n",
        "    with open(filename, errors='ignore') as email_file:\n",
        "      for line in email_file:\n",
        "        if line.startswith(\"Subject:\"):\n",
        "          subject = line.lstrip(\"Subject: \")\n",
        "          data.append(Message(subject, is_spam))\n",
        "          break"
      ],
      "metadata": {
        "id": "YBKtnvQ0hpGU"
      },
      "execution_count": 6,
      "outputs": []
    },
    {
      "cell_type": "code",
      "source": [
        "import random\n",
        "\n",
        "def split_data(data, proportion):\n",
        "  random.shuffle(data)\n",
        "  bar = math.floor(proportion * len(data))\n",
        "  train_data = data[:bar]\n",
        "  test_data = data[bar:]\n",
        "  return train_data, test_data\n",
        "\n",
        "random.seed(0)\n",
        "train_messages, test_messages = split_data(data, 0.75)\n",
        "\n",
        "model = NaiveBayesClassifier()\n",
        "model.train(train_messages)"
      ],
      "metadata": {
        "id": "0Qkfn5BAhsuk"
      },
      "execution_count": 4,
      "outputs": []
    },
    {
      "cell_type": "code",
      "source": [
        "from collections import Counter\n",
        "\n",
        "predictions = [(message, model.predict(message.text)) for message in test_messages]\n",
        "confusion_mat = Counter((message.is_spam, spam_probability > 0.5) for message, spam_probability in predictions)\n",
        "\n",
        "print(confusion_mat)"
      ],
      "metadata": {
        "colab": {
          "base_uri": "https://localhost:8080/"
        },
        "id": "qM0MmI-thxHT",
        "outputId": "962d9b63-299e-4faa-c287-dd4f10da19c7"
      },
      "execution_count": 5,
      "outputs": [
        {
          "output_type": "stream",
          "name": "stdout",
          "text": [
            "Counter({(False, False): 681, (True, True): 83, (True, False): 43, (False, True): 18})\n"
          ]
        }
      ]
    }
  ]
}